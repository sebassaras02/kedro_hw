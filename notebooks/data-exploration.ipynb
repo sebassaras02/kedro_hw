{
 "cells": [
  {
   "cell_type": "code",
   "execution_count": 89,
   "metadata": {},
   "outputs": [
    {
     "name": "stdout",
     "output_type": "stream",
     "text": [
      "The kedro.ipython extension is already loaded. To reload it, use:\n",
      "  %reload_ext kedro.ipython\n"
     ]
    }
   ],
   "source": [
    "%load_ext kedro.ipython"
   ]
  },
  {
   "cell_type": "code",
   "execution_count": 90,
   "metadata": {},
   "outputs": [],
   "source": [
    "import pandas as pd\n",
    "import numpy as np"
   ]
  },
  {
   "cell_type": "code",
   "execution_count": 91,
   "metadata": {},
   "outputs": [
    {
     "data": {
      "text/html": [
       "<pre style=\"white-space:pre;overflow-x:auto;line-height:normal;font-family:Menlo,'DejaVu Sans Mono',consolas,'Courier New',monospace\"><span style=\"color: #7fbfbf; text-decoration-color: #7fbfbf\">[05/14/24 19:01:52] </span><span style=\"color: #000080; text-decoration-color: #000080\">INFO    </span> Loading data from <span style=\"color: #ff8700; text-decoration-color: #ff8700\">cancer</span> <span style=\"font-weight: bold\">(</span>CSVDataset<span style=\"font-weight: bold\">)</span><span style=\"color: #808000; text-decoration-color: #808000\">...</span>                           <a href=\"file://c:\\Users\\sebit\\.conda\\envs\\kedro\\Lib\\site-packages\\kedro\\io\\data_catalog.py\" target=\"_blank\"><span style=\"color: #7f7f7f; text-decoration-color: #7f7f7f\">data_catalog.py</span></a><span style=\"color: #7f7f7f; text-decoration-color: #7f7f7f\">:</span><a href=\"file://c:\\Users\\sebit\\.conda\\envs\\kedro\\Lib\\site-packages\\kedro\\io\\data_catalog.py#483\" target=\"_blank\"><span style=\"color: #7f7f7f; text-decoration-color: #7f7f7f\">483</span></a>\n",
       "</pre>\n"
      ],
      "text/plain": [
       "\u001b[2;36m[05/14/24 19:01:52]\u001b[0m\u001b[2;36m \u001b[0m\u001b[34mINFO    \u001b[0m Loading data from \u001b[38;5;208mcancer\u001b[0m \u001b[1m(\u001b[0mCSVDataset\u001b[1m)\u001b[0m\u001b[33m...\u001b[0m                           \u001b]8;id=181522;file://c:\\Users\\sebit\\.conda\\envs\\kedro\\Lib\\site-packages\\kedro\\io\\data_catalog.py\u001b\\\u001b[2mdata_catalog.py\u001b[0m\u001b]8;;\u001b\\\u001b[2m:\u001b[0m\u001b]8;id=557621;file://c:\\Users\\sebit\\.conda\\envs\\kedro\\Lib\\site-packages\\kedro\\io\\data_catalog.py#483\u001b\\\u001b[2m483\u001b[0m\u001b]8;;\u001b\\\n"
      ]
     },
     "metadata": {},
     "output_type": "display_data"
    }
   ],
   "source": [
    "df = catalog.load(\"cancer\")"
   ]
  },
  {
   "cell_type": "code",
   "execution_count": 92,
   "metadata": {},
   "outputs": [],
   "source": [
    "# see all columns in pandas\n",
    "pd.set_option('display.max_columns', None)"
   ]
  },
  {
   "cell_type": "code",
   "execution_count": 93,
   "metadata": {},
   "outputs": [
    {
     "data": {
      "text/html": [
       "<pre style=\"white-space:pre;overflow-x:auto;line-height:normal;font-family:Menlo,'DejaVu Sans Mono',consolas,'Courier New',monospace\"></pre>\n"
      ],
      "text/plain": []
     },
     "metadata": {},
     "output_type": "display_data"
    },
    {
     "data": {
      "text/html": [
       "<div>\n",
       "<style scoped>\n",
       "    .dataframe tbody tr th:only-of-type {\n",
       "        vertical-align: middle;\n",
       "    }\n",
       "\n",
       "    .dataframe tbody tr th {\n",
       "        vertical-align: top;\n",
       "    }\n",
       "\n",
       "    .dataframe thead th {\n",
       "        text-align: right;\n",
       "    }\n",
       "</style>\n",
       "<table border=\"1\" class=\"dataframe\">\n",
       "  <thead>\n",
       "    <tr style=\"text-align: right;\">\n",
       "      <th></th>\n",
       "      <th>mean_radius</th>\n",
       "      <th>mean_texture</th>\n",
       "      <th>mean_perimeter</th>\n",
       "      <th>mean_area</th>\n",
       "      <th>mean_smoothness</th>\n",
       "      <th>diagnosis</th>\n",
       "    </tr>\n",
       "  </thead>\n",
       "  <tbody>\n",
       "    <tr>\n",
       "      <th>0</th>\n",
       "      <td>17.99</td>\n",
       "      <td>10.38</td>\n",
       "      <td>122.80</td>\n",
       "      <td>1001.0</td>\n",
       "      <td>0.11840</td>\n",
       "      <td>0</td>\n",
       "    </tr>\n",
       "    <tr>\n",
       "      <th>1</th>\n",
       "      <td>20.57</td>\n",
       "      <td>17.77</td>\n",
       "      <td>132.90</td>\n",
       "      <td>1326.0</td>\n",
       "      <td>0.08474</td>\n",
       "      <td>0</td>\n",
       "    </tr>\n",
       "    <tr>\n",
       "      <th>2</th>\n",
       "      <td>19.69</td>\n",
       "      <td>21.25</td>\n",
       "      <td>130.00</td>\n",
       "      <td>1203.0</td>\n",
       "      <td>0.10960</td>\n",
       "      <td>0</td>\n",
       "    </tr>\n",
       "    <tr>\n",
       "      <th>3</th>\n",
       "      <td>11.42</td>\n",
       "      <td>20.38</td>\n",
       "      <td>77.58</td>\n",
       "      <td>386.1</td>\n",
       "      <td>0.14250</td>\n",
       "      <td>0</td>\n",
       "    </tr>\n",
       "    <tr>\n",
       "      <th>4</th>\n",
       "      <td>20.29</td>\n",
       "      <td>14.34</td>\n",
       "      <td>135.10</td>\n",
       "      <td>1297.0</td>\n",
       "      <td>0.10030</td>\n",
       "      <td>0</td>\n",
       "    </tr>\n",
       "    <tr>\n",
       "      <th>...</th>\n",
       "      <td>...</td>\n",
       "      <td>...</td>\n",
       "      <td>...</td>\n",
       "      <td>...</td>\n",
       "      <td>...</td>\n",
       "      <td>...</td>\n",
       "    </tr>\n",
       "    <tr>\n",
       "      <th>564</th>\n",
       "      <td>21.56</td>\n",
       "      <td>22.39</td>\n",
       "      <td>142.00</td>\n",
       "      <td>1479.0</td>\n",
       "      <td>0.11100</td>\n",
       "      <td>0</td>\n",
       "    </tr>\n",
       "    <tr>\n",
       "      <th>565</th>\n",
       "      <td>20.13</td>\n",
       "      <td>28.25</td>\n",
       "      <td>131.20</td>\n",
       "      <td>1261.0</td>\n",
       "      <td>0.09780</td>\n",
       "      <td>0</td>\n",
       "    </tr>\n",
       "    <tr>\n",
       "      <th>566</th>\n",
       "      <td>16.60</td>\n",
       "      <td>28.08</td>\n",
       "      <td>108.30</td>\n",
       "      <td>858.1</td>\n",
       "      <td>0.08455</td>\n",
       "      <td>0</td>\n",
       "    </tr>\n",
       "    <tr>\n",
       "      <th>567</th>\n",
       "      <td>20.60</td>\n",
       "      <td>29.33</td>\n",
       "      <td>140.10</td>\n",
       "      <td>1265.0</td>\n",
       "      <td>0.11780</td>\n",
       "      <td>0</td>\n",
       "    </tr>\n",
       "    <tr>\n",
       "      <th>568</th>\n",
       "      <td>7.76</td>\n",
       "      <td>24.54</td>\n",
       "      <td>47.92</td>\n",
       "      <td>181.0</td>\n",
       "      <td>0.05263</td>\n",
       "      <td>1</td>\n",
       "    </tr>\n",
       "  </tbody>\n",
       "</table>\n",
       "<p>569 rows × 6 columns</p>\n",
       "</div>"
      ],
      "text/plain": [
       "\n",
       "     mean_radius  mean_texture  mean_perimeter  mean_area  mean_smoothness  \\\n",
       "\u001b[1;36m0\u001b[0m          \u001b[1;36m17.99\u001b[0m         \u001b[1;36m10.38\u001b[0m          \u001b[1;36m122.80\u001b[0m     \u001b[1;36m1001.0\u001b[0m          \u001b[1;36m0.11840\u001b[0m   \n",
       "\u001b[1;36m1\u001b[0m          \u001b[1;36m20.57\u001b[0m         \u001b[1;36m17.77\u001b[0m          \u001b[1;36m132.90\u001b[0m     \u001b[1;36m1326.0\u001b[0m          \u001b[1;36m0.08474\u001b[0m   \n",
       "\u001b[1;36m2\u001b[0m          \u001b[1;36m19.69\u001b[0m         \u001b[1;36m21.25\u001b[0m          \u001b[1;36m130.00\u001b[0m     \u001b[1;36m1203.0\u001b[0m          \u001b[1;36m0.10960\u001b[0m   \n",
       "\u001b[1;36m3\u001b[0m          \u001b[1;36m11.42\u001b[0m         \u001b[1;36m20.38\u001b[0m           \u001b[1;36m77.58\u001b[0m      \u001b[1;36m386.1\u001b[0m          \u001b[1;36m0.14250\u001b[0m   \n",
       "\u001b[1;36m4\u001b[0m          \u001b[1;36m20.29\u001b[0m         \u001b[1;36m14.34\u001b[0m          \u001b[1;36m135.10\u001b[0m     \u001b[1;36m1297.0\u001b[0m          \u001b[1;36m0.10030\u001b[0m   \n",
       "..           \u001b[33m...\u001b[0m           \u001b[33m...\u001b[0m             \u001b[33m...\u001b[0m        \u001b[33m...\u001b[0m              \u001b[33m...\u001b[0m   \n",
       "\u001b[1;36m564\u001b[0m        \u001b[1;36m21.56\u001b[0m         \u001b[1;36m22.39\u001b[0m          \u001b[1;36m142.00\u001b[0m     \u001b[1;36m1479.0\u001b[0m          \u001b[1;36m0.11100\u001b[0m   \n",
       "\u001b[1;36m565\u001b[0m        \u001b[1;36m20.13\u001b[0m         \u001b[1;36m28.25\u001b[0m          \u001b[1;36m131.20\u001b[0m     \u001b[1;36m1261.0\u001b[0m          \u001b[1;36m0.09780\u001b[0m   \n",
       "\u001b[1;36m566\u001b[0m        \u001b[1;36m16.60\u001b[0m         \u001b[1;36m28.08\u001b[0m          \u001b[1;36m108.30\u001b[0m      \u001b[1;36m858.1\u001b[0m          \u001b[1;36m0.08455\u001b[0m   \n",
       "\u001b[1;36m567\u001b[0m        \u001b[1;36m20.60\u001b[0m         \u001b[1;36m29.33\u001b[0m          \u001b[1;36m140.10\u001b[0m     \u001b[1;36m1265.0\u001b[0m          \u001b[1;36m0.11780\u001b[0m   \n",
       "\u001b[1;36m568\u001b[0m         \u001b[1;36m7.76\u001b[0m         \u001b[1;36m24.54\u001b[0m           \u001b[1;36m47.92\u001b[0m      \u001b[1;36m181.0\u001b[0m          \u001b[1;36m0.05263\u001b[0m   \n",
       "\n",
       "     diagnosis  \n",
       "\u001b[1;36m0\u001b[0m            \u001b[1;36m0\u001b[0m  \n",
       "\u001b[1;36m1\u001b[0m            \u001b[1;36m0\u001b[0m  \n",
       "\u001b[1;36m2\u001b[0m            \u001b[1;36m0\u001b[0m  \n",
       "\u001b[1;36m3\u001b[0m            \u001b[1;36m0\u001b[0m  \n",
       "\u001b[1;36m4\u001b[0m            \u001b[1;36m0\u001b[0m  \n",
       "..         \u001b[33m...\u001b[0m  \n",
       "\u001b[1;36m564\u001b[0m          \u001b[1;36m0\u001b[0m  \n",
       "\u001b[1;36m565\u001b[0m          \u001b[1;36m0\u001b[0m  \n",
       "\u001b[1;36m566\u001b[0m          \u001b[1;36m0\u001b[0m  \n",
       "\u001b[1;36m567\u001b[0m          \u001b[1;36m0\u001b[0m  \n",
       "\u001b[1;36m568\u001b[0m          \u001b[1;36m1\u001b[0m  \n",
       "\n",
       "\u001b[1m[\u001b[0m\u001b[1;36m569\u001b[0m rows x \u001b[1;36m6\u001b[0m columns\u001b[1m]\u001b[0m"
      ]
     },
     "execution_count": 93,
     "metadata": {},
     "output_type": "execute_result"
    }
   ],
   "source": [
    "df"
   ]
  },
  {
   "cell_type": "markdown",
   "metadata": {},
   "source": [
    "See basic features of the dataset"
   ]
  },
  {
   "cell_type": "code",
   "execution_count": 94,
   "metadata": {},
   "outputs": [
    {
     "name": "stdout",
     "output_type": "stream",
     "text": [
      "<class 'pandas.core.frame.DataFrame'>\n",
      "RangeIndex: 569 entries, 0 to 568\n",
      "Data columns (total 6 columns):\n",
      " #   Column           Non-Null Count  Dtype  \n",
      "---  ------           --------------  -----  \n",
      " 0   mean_radius      569 non-null    float64\n",
      " 1   mean_texture     569 non-null    float64\n",
      " 2   mean_perimeter   569 non-null    float64\n",
      " 3   mean_area        569 non-null    float64\n",
      " 4   mean_smoothness  569 non-null    float64\n",
      " 5   diagnosis        569 non-null    int64  \n",
      "dtypes: float64(5), int64(1)\n",
      "memory usage: 26.8 KB\n"
     ]
    }
   ],
   "source": [
    "df.info()"
   ]
  },
  {
   "cell_type": "code",
   "execution_count": 95,
   "metadata": {},
   "outputs": [
    {
     "data": {
      "text/html": [
       "<pre style=\"white-space:pre;overflow-x:auto;line-height:normal;font-family:Menlo,'DejaVu Sans Mono',consolas,'Courier New',monospace\"></pre>\n"
      ],
      "text/plain": []
     },
     "metadata": {},
     "output_type": "display_data"
    },
    {
     "data": {
      "text/html": [
       "<div>\n",
       "<style scoped>\n",
       "    .dataframe tbody tr th:only-of-type {\n",
       "        vertical-align: middle;\n",
       "    }\n",
       "\n",
       "    .dataframe tbody tr th {\n",
       "        vertical-align: top;\n",
       "    }\n",
       "\n",
       "    .dataframe thead th {\n",
       "        text-align: right;\n",
       "    }\n",
       "</style>\n",
       "<table border=\"1\" class=\"dataframe\">\n",
       "  <thead>\n",
       "    <tr style=\"text-align: right;\">\n",
       "      <th></th>\n",
       "      <th>mean_radius</th>\n",
       "      <th>mean_texture</th>\n",
       "      <th>mean_perimeter</th>\n",
       "      <th>mean_area</th>\n",
       "      <th>mean_smoothness</th>\n",
       "      <th>diagnosis</th>\n",
       "    </tr>\n",
       "  </thead>\n",
       "  <tbody>\n",
       "    <tr>\n",
       "      <th>count</th>\n",
       "      <td>569.000000</td>\n",
       "      <td>569.000000</td>\n",
       "      <td>569.000000</td>\n",
       "      <td>569.000000</td>\n",
       "      <td>569.000000</td>\n",
       "      <td>569.000000</td>\n",
       "    </tr>\n",
       "    <tr>\n",
       "      <th>mean</th>\n",
       "      <td>14.127292</td>\n",
       "      <td>19.289649</td>\n",
       "      <td>91.969033</td>\n",
       "      <td>654.889104</td>\n",
       "      <td>0.096360</td>\n",
       "      <td>0.627417</td>\n",
       "    </tr>\n",
       "    <tr>\n",
       "      <th>std</th>\n",
       "      <td>3.524049</td>\n",
       "      <td>4.301036</td>\n",
       "      <td>24.298981</td>\n",
       "      <td>351.914129</td>\n",
       "      <td>0.014064</td>\n",
       "      <td>0.483918</td>\n",
       "    </tr>\n",
       "    <tr>\n",
       "      <th>min</th>\n",
       "      <td>6.981000</td>\n",
       "      <td>9.710000</td>\n",
       "      <td>43.790000</td>\n",
       "      <td>143.500000</td>\n",
       "      <td>0.052630</td>\n",
       "      <td>0.000000</td>\n",
       "    </tr>\n",
       "    <tr>\n",
       "      <th>25%</th>\n",
       "      <td>11.700000</td>\n",
       "      <td>16.170000</td>\n",
       "      <td>75.170000</td>\n",
       "      <td>420.300000</td>\n",
       "      <td>0.086370</td>\n",
       "      <td>0.000000</td>\n",
       "    </tr>\n",
       "    <tr>\n",
       "      <th>50%</th>\n",
       "      <td>13.370000</td>\n",
       "      <td>18.840000</td>\n",
       "      <td>86.240000</td>\n",
       "      <td>551.100000</td>\n",
       "      <td>0.095870</td>\n",
       "      <td>1.000000</td>\n",
       "    </tr>\n",
       "    <tr>\n",
       "      <th>75%</th>\n",
       "      <td>15.780000</td>\n",
       "      <td>21.800000</td>\n",
       "      <td>104.100000</td>\n",
       "      <td>782.700000</td>\n",
       "      <td>0.105300</td>\n",
       "      <td>1.000000</td>\n",
       "    </tr>\n",
       "    <tr>\n",
       "      <th>max</th>\n",
       "      <td>28.110000</td>\n",
       "      <td>39.280000</td>\n",
       "      <td>188.500000</td>\n",
       "      <td>2501.000000</td>\n",
       "      <td>0.163400</td>\n",
       "      <td>1.000000</td>\n",
       "    </tr>\n",
       "  </tbody>\n",
       "</table>\n",
       "</div>"
      ],
      "text/plain": [
       "\n",
       "       mean_radius  mean_texture  mean_perimeter    mean_area  \\\n",
       "count   \u001b[1;36m569.000000\u001b[0m    \u001b[1;36m569.000000\u001b[0m      \u001b[1;36m569.000000\u001b[0m   \u001b[1;36m569.000000\u001b[0m   \n",
       "mean     \u001b[1;36m14.127292\u001b[0m     \u001b[1;36m19.289649\u001b[0m       \u001b[1;36m91.969033\u001b[0m   \u001b[1;36m654.889104\u001b[0m   \n",
       "std       \u001b[1;36m3.524049\u001b[0m      \u001b[1;36m4.301036\u001b[0m       \u001b[1;36m24.298981\u001b[0m   \u001b[1;36m351.914129\u001b[0m   \n",
       "min       \u001b[1;36m6.981000\u001b[0m      \u001b[1;36m9.710000\u001b[0m       \u001b[1;36m43.790000\u001b[0m   \u001b[1;36m143.500000\u001b[0m   \n",
       "\u001b[1;36m25\u001b[0m%      \u001b[1;36m11.700000\u001b[0m     \u001b[1;36m16.170000\u001b[0m       \u001b[1;36m75.170000\u001b[0m   \u001b[1;36m420.300000\u001b[0m   \n",
       "\u001b[1;36m50\u001b[0m%      \u001b[1;36m13.370000\u001b[0m     \u001b[1;36m18.840000\u001b[0m       \u001b[1;36m86.240000\u001b[0m   \u001b[1;36m551.100000\u001b[0m   \n",
       "\u001b[1;36m75\u001b[0m%      \u001b[1;36m15.780000\u001b[0m     \u001b[1;36m21.800000\u001b[0m      \u001b[1;36m104.100000\u001b[0m   \u001b[1;36m782.700000\u001b[0m   \n",
       "max      \u001b[1;36m28.110000\u001b[0m     \u001b[1;36m39.280000\u001b[0m      \u001b[1;36m188.500000\u001b[0m  \u001b[1;36m2501.000000\u001b[0m   \n",
       "\n",
       "       mean_smoothness   diagnosis  \n",
       "count       \u001b[1;36m569.000000\u001b[0m  \u001b[1;36m569.000000\u001b[0m  \n",
       "mean          \u001b[1;36m0.096360\u001b[0m    \u001b[1;36m0.627417\u001b[0m  \n",
       "std           \u001b[1;36m0.014064\u001b[0m    \u001b[1;36m0.483918\u001b[0m  \n",
       "min           \u001b[1;36m0.052630\u001b[0m    \u001b[1;36m0.000000\u001b[0m  \n",
       "\u001b[1;36m25\u001b[0m%           \u001b[1;36m0.086370\u001b[0m    \u001b[1;36m0.000000\u001b[0m  \n",
       "\u001b[1;36m50\u001b[0m%           \u001b[1;36m0.095870\u001b[0m    \u001b[1;36m1.000000\u001b[0m  \n",
       "\u001b[1;36m75\u001b[0m%           \u001b[1;36m0.105300\u001b[0m    \u001b[1;36m1.000000\u001b[0m  \n",
       "max           \u001b[1;36m0.163400\u001b[0m    \u001b[1;36m1.000000\u001b[0m  "
      ]
     },
     "execution_count": 95,
     "metadata": {},
     "output_type": "execute_result"
    }
   ],
   "source": [
    "df.describe()"
   ]
  },
  {
   "cell_type": "markdown",
   "metadata": {},
   "source": [
    "See null values"
   ]
  },
  {
   "cell_type": "code",
   "execution_count": 96,
   "metadata": {},
   "outputs": [
    {
     "data": {
      "text/html": [
       "<pre style=\"white-space:pre;overflow-x:auto;line-height:normal;font-family:Menlo,'DejaVu Sans Mono',consolas,'Courier New',monospace\"></pre>\n"
      ],
      "text/plain": []
     },
     "metadata": {},
     "output_type": "display_data"
    },
    {
     "data": {
      "text/plain": [
       "\n",
       "mean_radius        \u001b[1;36m0\u001b[0m\n",
       "mean_texture       \u001b[1;36m0\u001b[0m\n",
       "mean_perimeter     \u001b[1;36m0\u001b[0m\n",
       "mean_area          \u001b[1;36m0\u001b[0m\n",
       "mean_smoothness    \u001b[1;36m0\u001b[0m\n",
       "diagnosis          \u001b[1;36m0\u001b[0m\n",
       "dtype: int64"
      ]
     },
     "execution_count": 96,
     "metadata": {},
     "output_type": "execute_result"
    }
   ],
   "source": [
    "df.isnull().sum()"
   ]
  },
  {
   "cell_type": "code",
   "execution_count": 97,
   "metadata": {},
   "outputs": [],
   "source": [
    "from copy import deepcopy"
   ]
  },
  {
   "cell_type": "code",
   "execution_count": 98,
   "metadata": {},
   "outputs": [],
   "source": [
    "df_final = deepcopy(df)"
   ]
  },
  {
   "cell_type": "markdown",
   "metadata": {},
   "source": [
    "1. It is going to be created a function to make feature engineering with the Timestamp information"
   ]
  },
  {
   "cell_type": "code",
   "execution_count": 99,
   "metadata": {},
   "outputs": [],
   "source": [
    "def time_feature_eng(df: pd.DataFrame) -> pd.DataFrame:\n",
    "    \"\"\"\n",
    "    This function extracts time features from the Timestamp column.\n",
    "\n",
    "    Args:\n",
    "        df: pd.DataFrame - the input DataFrame\n",
    "    \n",
    "    Returns:\n",
    "        pd.DataFrame - the DataFrame with additional time features\n",
    "    \"\"\"\n",
    "    df['Timestamp'] = pd.to_datetime(df['Timestamp'])\n",
    "    df['Hour'] = df['Timestamp'].dt.hour\n",
    "    df['Minute'] = df['Timestamp'].dt.minute\n",
    "    df['Seconds'] = df['Timestamp'].dt.second\n",
    "    df['Month'] = df['Timestamp'].dt.month\n",
    "    df['Day'] = df['Timestamp'].dt.day\n",
    "    df['Weekday'] = df['Timestamp'].dt.weekday\n",
    "    return df"
   ]
  },
  {
   "cell_type": "code",
   "execution_count": 100,
   "metadata": {},
   "outputs": [],
   "source": [
    "# df_final = time_feature_eng(df_final)"
   ]
  },
  {
   "cell_type": "markdown",
   "metadata": {},
   "source": [
    "2. It is going to be created a function to fill all null values"
   ]
  },
  {
   "cell_type": "code",
   "execution_count": 101,
   "metadata": {},
   "outputs": [],
   "source": [
    "def process_nulls(df: pd.DataFrame) -> pd.DataFrame:\n",
    "    \"\"\"\n",
    "    This function fills null values in the DataFrame.\n",
    "\n",
    "    Args:\n",
    "        df: pd.DataFrame - the input DataFrame\n",
    "    \n",
    "    Returns:\n",
    "        pd.DataFrame - the DataFrame with filled null values\n",
    "    \"\"\"\n",
    "    if df_final.isnull().sum().sum() > 0:\n",
    "        df = df.fillna(0)\n",
    "        return df\n",
    "    else:\n",
    "        return df"
   ]
  },
  {
   "cell_type": "code",
   "execution_count": 102,
   "metadata": {},
   "outputs": [],
   "source": [
    "df_final = process_nulls(df_final)"
   ]
  },
  {
   "cell_type": "markdown",
   "metadata": {},
   "source": [
    "3. Hypothesis test between target and feature variables"
   ]
  },
  {
   "cell_type": "code",
   "execution_count": 103,
   "metadata": {},
   "outputs": [],
   "source": [
    "from scipy import stats\n",
    "\n",
    "def anova_test_filtering(df: pd.DataFrame, target_col: str) -> pd.DataFrame:\n",
    "    \"\"\"\n",
    "    This function performs ANOVA test to select the most important features.\n",
    "\n",
    "    Args:\n",
    "        df: pd.DataFrame - the input DataFrame\n",
    "        target_col: str - the target column\n",
    "\n",
    "    Returns:\n",
    "        pd.DataFrame - the DataFrame with selected features\n",
    "    \"\"\"\n",
    "    #useful columns\n",
    "    useful_columns = []\n",
    "\n",
    "    #obtener las columnas numericas\n",
    "    numeric_columns = list(df_final.select_dtypes(include=['float', 'int']).columns)\n",
    "\n",
    "    for col in numeric_columns:\n",
    "\n",
    "        groups = df.groupby(target_col)[col].apply(list)\n",
    "        f_statistic, p_value = stats.f_oneway(*groups)\n",
    "        if p_value < 0.05:\n",
    "            useful_columns.append(col)\n",
    "    return df[useful_columns]"
   ]
  },
  {
   "cell_type": "code",
   "execution_count": 104,
   "metadata": {},
   "outputs": [
    {
     "data": {
      "text/html": [
       "<pre style=\"white-space:pre;overflow-x:auto;line-height:normal;font-family:Menlo,'DejaVu Sans Mono',consolas,'Courier New',monospace\"><span style=\"color: #7fbfbf; text-decoration-color: #7fbfbf\">[05/14/24 19:01:54] </span><span style=\"color: #800000; text-decoration-color: #800000\">WARNING </span> c:\\Users\\sebit\\.conda\\envs\\kedro\\Lib\\site-packages\\scipy\\stats\\_axis_n <a href=\"file://c:\\Users\\sebit\\.conda\\envs\\kedro\\Lib\\warnings.py\" target=\"_blank\"><span style=\"color: #7f7f7f; text-decoration-color: #7f7f7f\">warnings.py</span></a><span style=\"color: #7f7f7f; text-decoration-color: #7f7f7f\">:</span><a href=\"file://c:\\Users\\sebit\\.conda\\envs\\kedro\\Lib\\warnings.py#110\" target=\"_blank\"><span style=\"color: #7f7f7f; text-decoration-color: #7f7f7f\">110</span></a>\n",
       "<span style=\"color: #7fbfbf; text-decoration-color: #7fbfbf\">                    </span>         an_policy.py:<span style=\"color: #008080; text-decoration-color: #008080; font-weight: bold\">531</span>: ConstantInputWarning: Each of the input arrays is    <span style=\"color: #7f7f7f; text-decoration-color: #7f7f7f\">               </span>\n",
       "<span style=\"color: #7fbfbf; text-decoration-color: #7fbfbf\">                    </span>         constant; the F statistic is not defined or infinite                   <span style=\"color: #7f7f7f; text-decoration-color: #7f7f7f\">               </span>\n",
       "<span style=\"color: #7fbfbf; text-decoration-color: #7fbfbf\">                    </span>           res = <span style=\"color: #800080; text-decoration-color: #800080; font-weight: bold\">hypotest_fun_out</span><span style=\"font-weight: bold\">(</span>*samples, **kwds<span style=\"font-weight: bold\">)</span>                             <span style=\"color: #7f7f7f; text-decoration-color: #7f7f7f\">               </span>\n",
       "<span style=\"color: #7fbfbf; text-decoration-color: #7fbfbf\">                    </span>                                                                                <span style=\"color: #7f7f7f; text-decoration-color: #7f7f7f\">               </span>\n",
       "</pre>\n"
      ],
      "text/plain": [
       "\u001b[2;36m[05/14/24 19:01:54]\u001b[0m\u001b[2;36m \u001b[0m\u001b[31mWARNING \u001b[0m c:\\Users\\sebit\\.conda\\envs\\kedro\\Lib\\site-packages\\scipy\\stats\\_axis_n \u001b]8;id=428530;file://c:\\Users\\sebit\\.conda\\envs\\kedro\\Lib\\warnings.py\u001b\\\u001b[2mwarnings.py\u001b[0m\u001b]8;;\u001b\\\u001b[2m:\u001b[0m\u001b]8;id=375653;file://c:\\Users\\sebit\\.conda\\envs\\kedro\\Lib\\warnings.py#110\u001b\\\u001b[2m110\u001b[0m\u001b]8;;\u001b\\\n",
       "\u001b[2;36m                    \u001b[0m         an_policy.py:\u001b[1;36m531\u001b[0m: ConstantInputWarning: Each of the input arrays is    \u001b[2m               \u001b[0m\n",
       "\u001b[2;36m                    \u001b[0m         constant; the F statistic is not defined or infinite                   \u001b[2m               \u001b[0m\n",
       "\u001b[2;36m                    \u001b[0m           res = \u001b[1;35mhypotest_fun_out\u001b[0m\u001b[1m(\u001b[0m*samples, **kwds\u001b[1m)\u001b[0m                             \u001b[2m               \u001b[0m\n",
       "\u001b[2;36m                    \u001b[0m                                                                                \u001b[2m               \u001b[0m\n"
      ]
     },
     "metadata": {},
     "output_type": "display_data"
    }
   ],
   "source": [
    "df_final = anova_test_filtering(df=df_final, target_col='diagnosis')"
   ]
  },
  {
   "cell_type": "markdown",
   "metadata": {},
   "source": [
    "4. Make a one-hot encoding for categorical features"
   ]
  },
  {
   "cell_type": "code",
   "execution_count": 105,
   "metadata": {},
   "outputs": [],
   "source": [
    "from sklearn.preprocessing import LabelEncoder"
   ]
  },
  {
   "cell_type": "code",
   "execution_count": 106,
   "metadata": {},
   "outputs": [],
   "source": [
    "def encode_categoricals(df: pd.DataFrame, target_col: str) -> pd.DataFrame:\n",
    "    \"\"\"\n",
    "    This function encodes categorical columns in the DataFrame.\n",
    "\n",
    "    Args:\n",
    "        df: pd.DataFrame - the input DataFrame\n",
    "        target_col: str - the name of the target column\n",
    "    \n",
    "    Returns:\n",
    "        pd.DataFrame - the DataFrame with encoded categorical columns\n",
    "    \"\"\"\n",
    "    categorical_columns = list(df_final.select_dtypes(include=['object']).columns)\n",
    "\n",
    "    if target_col in categorical_columns:\n",
    "        categorical_columns.remove(target_col)\n",
    "        \n",
    "    if len(categorical_columns) > 0:\n",
    "        for col in categorical_columns:\n",
    "            le = LabelEncoder()\n",
    "            df[col] = le.fit_transform(df[[col]])\n",
    "        return df\n",
    "    else:\n",
    "        return df"
   ]
  },
  {
   "cell_type": "code",
   "execution_count": 107,
   "metadata": {},
   "outputs": [],
   "source": [
    "df_final = encode_categoricals(df_final, target_col='diagnosis')"
   ]
  },
  {
   "cell_type": "markdown",
   "metadata": {},
   "source": [
    "5. Normalize features"
   ]
  },
  {
   "cell_type": "code",
   "execution_count": 108,
   "metadata": {},
   "outputs": [],
   "source": [
    "from sklearn.preprocessing import StandardScaler"
   ]
  },
  {
   "cell_type": "code",
   "execution_count": 109,
   "metadata": {},
   "outputs": [],
   "source": [
    "def scale_columns(df: pd.DataFrame, target_col: str) -> pd.DataFrame:\n",
    "    \"\"\"\n",
    "    This function scales all columns in the DataFrame.\n",
    "\n",
    "    Args:\n",
    "        df: pd.DataFrame - the input DataFrame\n",
    "        target_col: str - the target column to avoid scaling\n",
    "    \n",
    "    Returns:\n",
    "        pd.DataFrame - the DataFrame with scaled columns\n",
    "    \"\"\"\n",
    "    numerical_columns = list(df_final.select_dtypes(include=['float', 'int']).columns)\n",
    "    \n",
    "    if target_col in numerical_columns:\n",
    "        numerical_columns.remove(target_col)\n",
    "\n",
    "    if len(numerical_columns) > 0:\n",
    "        for col in numerical_columns:\n",
    "            scaler = StandardScaler()\n",
    "            df[col] = scaler.fit_transform(df[[col]])\n",
    "        return df\n",
    "    else:\n",
    "        return df"
   ]
  },
  {
   "cell_type": "code",
   "execution_count": 110,
   "metadata": {},
   "outputs": [],
   "source": [
    "df_final = scale_columns(df_final, target_col='diagnosis')"
   ]
  }
 ],
 "metadata": {
  "kernelspec": {
   "display_name": "kedro",
   "language": "python",
   "name": "python3"
  },
  "language_info": {
   "codemirror_mode": {
    "name": "ipython",
    "version": 3
   },
   "file_extension": ".py",
   "mimetype": "text/x-python",
   "name": "python",
   "nbconvert_exporter": "python",
   "pygments_lexer": "ipython3",
   "version": "3.11.9"
  }
 },
 "nbformat": 4,
 "nbformat_minor": 2
}
